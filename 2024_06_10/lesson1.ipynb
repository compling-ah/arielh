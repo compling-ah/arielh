{
 "cells": [
  {
   "cell_type": "code",
   "execution_count": 3,
   "metadata": {},
   "outputs": [],
   "source": [
    "def menu(wine:str, entree:str, dessert:str) -> None:\n",
    "    print(f\"wine:{wine}\")\n",
    "    print(f\"entree:{entree}\")\n",
    "    print(f\"dessert:{dessert}\")"
   ]
  },
  {
   "cell_type": "markdown",
   "metadata": {},
   "source": [
    "「:str」提示自己這個引數值的類別\n",
    "「def」定義 function"
   ]
  },
  {
   "cell_type": "code",
   "execution_count": 4,
   "metadata": {},
   "outputs": [
    {
     "name": "stdout",
     "output_type": "stream",
     "text": [
      "wine:白酒\n",
      "entree:牛排\n",
      "dessert:蛋糕\n"
     ]
    }
   ],
   "source": [
    "#引數值的呼叫，須按照參數的順序\n",
    "menu('白酒','牛排','蛋糕')"
   ]
  },
  {
   "cell_type": "code",
   "execution_count": 5,
   "metadata": {},
   "outputs": [
    {
     "name": "stdout",
     "output_type": "stream",
     "text": [
      "wine:白酒\n",
      "entree:牛排\n",
      "dessert:蛋糕\n"
     ]
    }
   ],
   "source": [
    "#引數名稱的呼叫，不須依照順序\n",
    "menu(wine='白酒',entree='牛排',dessert='蛋糕')"
   ]
  },
  {
   "cell_type": "code",
   "execution_count": 6,
   "metadata": {},
   "outputs": [
    {
     "name": "stdout",
     "output_type": "stream",
     "text": [
      "wine:白酒\n",
      "entree:牛排\n",
      "dessert:蛋糕\n"
     ]
    }
   ],
   "source": [
    "#引數名稱的呼叫，不須依照順序\n",
    "menu(entree='牛排',dessert='蛋糕',wine='白酒')"
   ]
  },
  {
   "cell_type": "code",
   "execution_count": 1,
   "metadata": {},
   "outputs": [
    {
     "name": "stdout",
     "output_type": "stream",
     "text": [
      "wine:白酒\n",
      "entree:牛排\n",
      "dessert:蛋糕\n"
     ]
    }
   ],
   "source": [
    "#混合呼叫，前面要用引數值呼叫，後面要用引數名稱呼叫\n",
    "#混合呼叫，不用按照順序\n",
    "#只要用了引數名稱的呼叫，之後就都要用引數名稱的呼叫\n",
    "\n",
    "def menu(wine:str, entree:str, dessert:str) -> None:\n",
    "    print(f\"wine:{wine}\")\n",
    "    print(f\"entree:{entree}\")\n",
    "    print(f\"dessert:{dessert}\")\n",
    "\n",
    "\n",
    "menu('白酒',dessert='蛋糕',entree='牛排')"
   ]
  },
  {
   "cell_type": "code",
   "execution_count": 8,
   "metadata": {},
   "outputs": [],
   "source": [
    "#參數有default值\n",
    "#有default值的參數，一定要放在最後面\n",
    "\n",
    "def menu(wine:str,entree:str,dessert:str='奶昔') -> None:\n",
    "    print(f\"wine:{wine}\")\n",
    "    print(f\"entree:{entree}\")\n",
    "    print(f\"dessert:{dessert}\")\n"
   ]
  },
  {
   "cell_type": "code",
   "execution_count": 9,
   "metadata": {},
   "outputs": [
    {
     "name": "stdout",
     "output_type": "stream",
     "text": [
      "wine:白酒\n",
      "entree:牛排\n",
      "dessert:奶昔\n"
     ]
    }
   ],
   "source": [
    "#當有預設值時，預設值可省略\n",
    "\n",
    "menu('白酒','牛排')"
   ]
  },
  {
   "cell_type": "code",
   "execution_count": 19,
   "metadata": {},
   "outputs": [
    {
     "name": "stdout",
     "output_type": "stream",
     "text": [
      "wine:白酒\n",
      "entree:牛排\n",
      "dessert:蛋糕\n"
     ]
    }
   ],
   "source": [
    "#混合呼叫，不用預設值奶昔，改用蛋糕\n",
    "#需要預設值時可以省略，要更改預設值才要寫出來\n",
    "\n",
    "menu('白酒','牛排',dessert='蛋糕')"
   ]
  },
  {
   "cell_type": "code",
   "execution_count": 23,
   "metadata": {},
   "outputs": [
    {
     "name": "stdout",
     "output_type": "stream",
     "text": [
      "wine:白酒\n",
      "entree:牛排\n",
      "dessert:奶昔\n"
     ]
    }
   ],
   "source": [
    "#有預設值的參數都要擺在最後，且可省略\n",
    "\n",
    "def menu(wine:str,entree:str='牛排',dessert:str='奶昔') -> None:\n",
    "    print(f\"wine:{wine}\")\n",
    "    print(f\"entree:{entree}\")\n",
    "    print(f\"dessert:{dessert}\")\n",
    "\n",
    "menu('白酒')"
   ]
  },
  {
   "cell_type": "code",
   "execution_count": 32,
   "metadata": {},
   "outputs": [
    {
     "name": "stdout",
     "output_type": "stream",
     "text": [
      "wine:白酒\n",
      "entree:牛排\n",
      "dessert:蛋糕\n"
     ]
    }
   ],
   "source": [
    "#牛排使用預設值，奶昔更改成蛋糕\n",
    "#引數名稱的呼叫不須按照順序\n",
    "\n",
    "def menu(wine:str,entree:str='牛排',dessert:str='奶昔') -> None:\n",
    "    print(f\"wine:{wine}\")\n",
    "    print(f\"entree:{entree}\")\n",
    "    print(f\"dessert:{dessert}\")\n",
    "\n",
    "#menu('白酒','蛋糕') => 不成立，因為「值」的呼叫一定要按照順序，這裡直接跳過了「牛排」\n",
    "\n",
    "menu('白酒',dessert='蛋糕')"
   ]
  },
  {
   "cell_type": "code",
   "execution_count": 33,
   "metadata": {},
   "outputs": [
    {
     "name": "stdout",
     "output_type": "stream",
     "text": [
      "wine:白酒\n",
      "entree:蝦排\n",
      "dessert:蛋糕\n"
     ]
    }
   ],
   "source": [
    "#引數名稱的呼叫不須按照順序\n",
    "\n",
    "menu('白酒',dessert='蛋糕',entree='蝦排')"
   ]
  },
  {
   "cell_type": "code",
   "execution_count": 35,
   "metadata": {},
   "outputs": [],
   "source": [
    "def multiply(a:int=10, b:int=20) -> int:\n",
    "    return a * b;"
   ]
  },
  {
   "cell_type": "code",
   "execution_count": 36,
   "metadata": {},
   "outputs": [
    {
     "data": {
      "text/plain": [
       "200"
      ]
     },
     "execution_count": 36,
     "metadata": {},
     "output_type": "execute_result"
    }
   ],
   "source": [
    "#因為兩個參數都有預設值，因此不需要任何引數值就可以預設帶入\n",
    "\n",
    "multiply()"
   ]
  },
  {
   "cell_type": "code",
   "execution_count": 37,
   "metadata": {},
   "outputs": [
    {
     "data": {
      "text/plain": [
       "25"
      ]
     },
     "execution_count": 37,
     "metadata": {},
     "output_type": "execute_result"
    }
   ],
   "source": [
    "#引數名稱的呼叫\n",
    "\n",
    "multiply(a=5,b=5)"
   ]
  },
  {
   "cell_type": "markdown",
   "metadata": {},
   "source": [
    "Python 內建函式：\n",
    "print(*objects, sep=' ', end='\\n', file=None, flush=False)"
   ]
  },
  {
   "cell_type": "code",
   "execution_count": 42,
   "metadata": {},
   "outputs": [],
   "source": [
    "#「星號」沒有限定引數值呼叫的數量\n",
    "\n",
    "def print_args(*args):\n",
    "    print(args)"
   ]
  },
  {
   "cell_type": "code",
   "execution_count": 43,
   "metadata": {},
   "outputs": [
    {
     "name": "stdout",
     "output_type": "stream",
     "text": [
      "(1, 2, 4, 'a', 'b', 'c')\n"
     ]
    }
   ],
   "source": [
    "#多元組合tuple\n",
    "\n",
    "print_args(1,2,4,'a','b','c')"
   ]
  },
  {
   "cell_type": "code",
   "execution_count": 14,
   "metadata": {},
   "outputs": [
    {
     "name": "stdout",
     "output_type": "stream",
     "text": [
      "(1, 2, 4, 'a', 'b', 'c', 10, 20, 30)\n"
     ]
    }
   ],
   "source": [
    "print_args(1,2,4,'a','b','c',10,20,30)"
   ]
  },
  {
   "cell_type": "code",
   "execution_count": 15,
   "metadata": {},
   "outputs": [
    {
     "name": "stdout",
     "output_type": "stream",
     "text": [
      "()\n"
     ]
    }
   ],
   "source": [
    "#即使什麼都不寫也成立\n",
    "\n",
    "print_args()"
   ]
  },
  {
   "cell_type": "code",
   "execution_count": null,
   "metadata": {},
   "outputs": [],
   "source": [
    "#星號代表沒有限制數量\n",
    "#沒有一定要有數值，但也可以有無限數值\n",
    "\n",
    "print()\n",
    "print(1,2,3,5,'a','b','c')"
   ]
  },
  {
   "cell_type": "code",
   "execution_count": null,
   "metadata": {},
   "outputs": [],
   "source": [
    "#預設空格改成 dash (-)\n",
    "\n",
    "print(1,2,3,5,'a','b','c',sep='-')"
   ]
  },
  {
   "cell_type": "code",
   "execution_count": 16,
   "metadata": {},
   "outputs": [
    {
     "name": "stdout",
     "output_type": "stream",
     "text": [
      "1-2-3-5-a-b-c.\n"
     ]
    }
   ],
   "source": [
    "#結尾加上.\n",
    "#空格改 dash (-)\n",
    "\n",
    "print(1,2,3,5,'a','b','c',end='.\\n',sep='-')"
   ]
  },
  {
   "cell_type": "code",
   "execution_count": 23,
   "metadata": {},
   "outputs": [
    {
     "name": "stdout",
     "output_type": "stream",
     "text": [
      "123\n"
     ]
    }
   ],
   "source": [
    "#看說明書找match的實體方法\n",
    "\n",
    "import re\n",
    "from re import Pattern\n",
    "from re import Match\n",
    "p:Pattern = re.compile(r'\\d\\d\\d')\n",
    "m:Match | None = p.match('123d')\n",
    "if m is None:\n",
    "    print(\"沒有比對成功\")\n",
    "else:\n",
    "    print(m.group(0))"
   ]
  },
  {
   "cell_type": "code",
   "execution_count": 17,
   "metadata": {},
   "outputs": [
    {
     "name": "stdout",
     "output_type": "stream",
     "text": [
      "123\n",
      "1\n",
      "2\n",
      "3\n"
     ]
    }
   ],
   "source": [
    "import re\n",
    "from re import Pattern\n",
    "from re import Match\n",
    "p:Pattern = re.compile(r'(\\d)(\\d)(\\d)')\n",
    "m:Match | None = p.match('123d')\n",
    "if m is None:\n",
    "    print(\"沒有比對成功\")\n",
    "else:\n",
    "    print(m.group(0))\n",
    "    print(m.group(1))\n",
    "    print(m.group(2))\n",
    "    print(m.group(3))"
   ]
  },
  {
   "cell_type": "code",
   "execution_count": 24,
   "metadata": {},
   "outputs": [],
   "source": [
    "#一個星號(*)等於沒有「引數值」數量限制，0或無限個都可以\n",
    "#兩個星號(**)等於沒有「引數名稱」數量限制，0或無限個都可以\n",
    "\n",
    "def print_kwargs(**kwargs):\n",
    "    print(kwargs)"
   ]
  },
  {
   "cell_type": "code",
   "execution_count": 25,
   "metadata": {},
   "outputs": [
    {
     "name": "stdout",
     "output_type": "stream",
     "text": [
      "{'one': 1, 'two': 2, 'three': 3}\n"
     ]
    }
   ],
   "source": [
    "print_kwargs(one=1,two=2,three=3)"
   ]
  },
  {
   "cell_type": "code",
   "execution_count": 26,
   "metadata": {},
   "outputs": [
    {
     "name": "stdout",
     "output_type": "stream",
     "text": [
      "{}\n"
     ]
    }
   ],
   "source": [
    "print_kwargs()"
   ]
  },
  {
   "cell_type": "code",
   "execution_count": 27,
   "metadata": {},
   "outputs": [],
   "source": [
    "def print_args_kwargs(*args,**kwargs):\n",
    "    print(args)\n",
    "    print(kwargs)"
   ]
  },
  {
   "cell_type": "code",
   "execution_count": null,
   "metadata": {},
   "outputs": [],
   "source": [
    "print_args_kwargs(1,2,3,'a','b','c',one=1,two=2,three=3)\n"
   ]
  },
  {
   "cell_type": "code",
   "execution_count": 28,
   "metadata": {},
   "outputs": [
    {
     "name": "stdout",
     "output_type": "stream",
     "text": [
      "()\n",
      "{}\n"
     ]
    }
   ],
   "source": [
    "print_args_kwargs()"
   ]
  }
 ],
 "metadata": {
  "kernelspec": {
   "display_name": "env1",
   "language": "python",
   "name": "python3"
  },
  "language_info": {
   "codemirror_mode": {
    "name": "ipython",
    "version": 3
   },
   "file_extension": ".py",
   "mimetype": "text/x-python",
   "name": "python",
   "nbconvert_exporter": "python",
   "pygments_lexer": "ipython3",
   "version": "3.11.9"
  }
 },
 "nbformat": 4,
 "nbformat_minor": 2
}
