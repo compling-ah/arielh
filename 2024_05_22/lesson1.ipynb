{
 "cells": [
  {
   "cell_type": "code",
   "execution_count": 6,
   "metadata": {},
   "outputs": [
    {
     "data": {
      "text/plain": [
       "'對邊25,斜邊50,角度30'"
      ]
     },
     "execution_count": 6,
     "metadata": {},
     "output_type": "execute_result"
    }
   ],
   "source": [
    "import math\n",
    "side = int(input(\"請輸入對邊：\"))\n",
    "another_side = int(input(\"請輸入斜邊：\"))\n",
    "radian = math.asin(side/another_side)\n",
    "degrees = math.degrees(radian)\n",
    "degrees = round(degrees)\n",
    "#字串插播\n",
    "f'對邊{side},斜邊{another_side},角度{degrees}'"
   ]
  },
  {
   "cell_type": "code",
   "execution_count": 7,
   "metadata": {},
   "outputs": [
    {
     "name": "stdout",
     "output_type": "stream",
     "text": [
      "定期到場服務：\n",
      "主動排定每週一天或隔週一天\n",
      "派遣工程師至客戶現場進行例行性檢查及故障排除服務\n",
      "如遇突發或特殊情形時\n",
      "工程部亦會在四小時內指派工程師到場排除問題\n",
      "\n"
     ]
    }
   ],
   "source": [
    "message = ''\n",
    "message += '定期到場服務：\\n'\n",
    "message += '主動排定每週一天或隔週一天\\n'\n",
    "message += '派遣工程師至客戶現場進行例行性檢查及故障排除服務\\n'\n",
    "message += '如遇突發或特殊情形時\\n'\n",
    "message += '工程部亦會在四小時內指派工程師到場排除問題\\n'\n",
    "print(message)"
   ]
  },
  {
   "cell_type": "code",
   "execution_count": 8,
   "metadata": {},
   "outputs": [
    {
     "name": "stdout",
     "output_type": "stream",
     "text": [
      "定期到場服務：\n",
      "主動排定每週一天或隔週一天\n",
      "派遣工程師至客戶現場進行例行性檢查及故障排除服務\n",
      "如遇突發或特殊情形時\n",
      "工程部亦會在四小時內指派工程師到場排除問題\n"
     ]
    }
   ],
   "source": [
    "#多行文字\n",
    "paragraph = '''定期到場服務：\n",
    "主動排定每週一天或隔週一天\n",
    "派遣工程師至客戶現場進行例行性檢查及故障排除服務\n",
    "如遇突發或特殊情形時\n",
    "工程部亦會在四小時內指派工程師到場排除問題'''\n",
    "print(paragraph)"
   ]
  }
 ],
 "metadata": {
  "kernelspec": {
   "display_name": "env1",
   "language": "python",
   "name": "python3"
  },
  "language_info": {
   "codemirror_mode": {
    "name": "ipython",
    "version": 3
   },
   "file_extension": ".py",
   "mimetype": "text/x-python",
   "name": "python",
   "nbconvert_exporter": "python",
   "pygments_lexer": "ipython3",
   "version": "3.11.9"
  }
 },
 "nbformat": 4,
 "nbformat_minor": 2
}
