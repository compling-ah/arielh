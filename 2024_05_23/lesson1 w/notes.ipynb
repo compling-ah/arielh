{
 "cells": [
  {
   "cell_type": "code",
   "execution_count": 1,
   "metadata": {},
   "outputs": [
    {
     "name": "stdout",
     "output_type": "stream",
     "text": [
      "294\n"
     ]
    }
   ],
   "source": [
    "#學生總分為300\n",
    "#有些學生可以加分3%\n",
    "\n",
    "scores = int(input(\"int請輸入學生分數(最高300分):\"))\n",
    "is_add = input(\"學生是否符合加分條件?(y,n)\")\n",
    "if is_add == \"y\":\n",
    "    scores *= 1.05\n",
    "\n",
    "    print(round(scores))"
   ]
  },
  {
   "cell_type": "code",
   "execution_count": 2,
   "metadata": {},
   "outputs": [
    {
     "name": "stdout",
     "output_type": "stream",
     "text": [
      "300\n"
     ]
    }
   ],
   "source": [
    "#學生總分為300\n",
    "#有些學生可以加分3%\n",
    "\n",
    "scores = int(input(\"int請輸入學生分數(最高300分):\"))\n",
    "is_add = input(\"學生是否符合加分條件?(y,n)\")\n",
    "if is_add.lower() == \"y\":\n",
    "    scores *= 1.05\n",
    "    if scores > 300:\n",
    "        scores = 300\n",
    "\n",
    "    print(round(scores))"
   ]
  },
  {
   "cell_type": "code",
   "execution_count": 6,
   "metadata": {},
   "outputs": [
    {
     "name": "stdout",
     "output_type": "stream",
     "text": [
      "格式有誤\n",
      "應用程式結束\n"
     ]
    }
   ],
   "source": [
    "#try&except句型(出現問題時可用；value error只是一種錯誤，其他錯誤則可用exception，詳請見Requests技術文件)\n",
    "try:\n",
    "    money = int((\"請輸入金額：\"))\n",
    "    print(money)\n",
    "except ValueError:\n",
    "    print(\"格式有誤\")\n",
    "except Exception:\n",
    "    print(\"不知名的錯誤\")\n",
    "\n",
    "print(\"應用程式結束\")"
   ]
  },
  {
   "cell_type": "code",
   "execution_count": 9,
   "metadata": {},
   "outputs": [
    {
     "name": "stdout",
     "output_type": "stream",
     "text": [
      "輸入格式有誤\n",
      "應用程式結束\n"
     ]
    }
   ],
   "source": [
    "#學生總分為300\n",
    "#有些學生可以加分3%\n",
    "\n",
    "try:\n",
    "    scores = int(input(\"int請輸入學生分數(最高300分):\"))\n",
    "    is_add = input(\"學生是否符合加分條件?(y,n)\")\n",
    "    if is_add.lower == \"y\":\n",
    "        scores *= 1.05\n",
    "        if scores > 300:\n",
    "            scores = 300\n",
    "\n",
    "    print(round(scores))\n",
    "except ValueError:\n",
    "    print(\"輸入格式有誤\")\n",
    "except Exception:\n",
    "    print(\"不知名的錯誤\")\n",
    "\n",
    "print(\"應用程式結束\")"
   ]
  },
  {
   "cell_type": "code",
   "execution_count": 12,
   "metadata": {},
   "outputs": [
    {
     "name": "stdout",
     "output_type": "stream",
     "text": [
      "已超過輸入指定範圍\n",
      "應用程式結束\n"
     ]
    }
   ],
   "source": [
    "#學生總分為300\n",
    "#有些學生可以加分3%\n",
    "\n",
    "try:\n",
    "    scores = int(input(\"int請輸入學生分數(最高300分):\"))\n",
    "    if scores <= 300:\n",
    "        is_add = input(\"學生是否符合加分條件?(y,n)\")\n",
    "        if is_add.lower == \"y\":\n",
    "            scores *= 1.05\n",
    "            if scores > 300:\n",
    "                scores = 300\n",
    "\n",
    "        print(round(scores))\n",
    "    else:\n",
    "        print(\"已超過輸入指定範圍\")\n",
    "except ValueError:\n",
    "    print(\"輸入格式有誤\")\n",
    "except Exception:\n",
    "    print(\"不知名的錯誤\")\n",
    "\n",
    "print(\"應用程式結束\")"
   ]
  },
  {
   "cell_type": "code",
   "execution_count": 14,
   "metadata": {},
   "outputs": [
    {
     "name": "stdout",
     "output_type": "stream",
     "text": [
      "輸入內容不可小於0\n",
      "應用程式結束\n"
     ]
    }
   ],
   "source": [
    "#學生總分為300\n",
    "#有些學生可以加分3%\n",
    "\n",
    "try:\n",
    "    scores = int(input(\"int請輸入學生分數(最高300分):\"))\n",
    "    if scores <= 300:\n",
    "        if scores >= 0:\n",
    "            is_add = input(\"學生是否符合加分條件?(y,n)\")\n",
    "            if is_add.lower == \"y\":\n",
    "                scores *= 1.05\n",
    "                if scores > 300:\n",
    "                    scores = 300\n",
    "\n",
    "            print(round(scores))\n",
    "\n",
    "        else:\n",
    "            print(\"輸入內容不可小於0\")\n",
    "    else:\n",
    "        print(\"已超過輸入指定範圍\")\n",
    "except ValueError:\n",
    "    print(\"輸入格式有誤\")\n",
    "except Exception:\n",
    "    print(\"不知名的錯誤\")\n",
    "\n",
    "print(\"應用程式結束\")"
   ]
  },
  {
   "cell_type": "code",
   "execution_count": 16,
   "metadata": {},
   "outputs": [
    {
     "name": "stdout",
     "output_type": "stream",
     "text": [
      "不正確的輸入範圍\n",
      "應用程式結束\n"
     ]
    }
   ],
   "source": [
    "#學生總分為300\n",
    "#有些學生可以加分3%\n",
    "#不用巢狀判斷，改用邏輯運算子\n",
    "\n",
    "try:\n",
    "    scores = int(input(\"int請輸入學生分數(最高300分):\"))\n",
    "    if scores <= 300 and scores >= 0:\n",
    "        is_add = input(\"學生是否符合加分條件?(y,n)\")\n",
    "        if is_add.lower == \"y\":\n",
    "            scores *= 1.05\n",
    "            if scores > 300:\n",
    "                scores = 300\n",
    "\n",
    "        print(round(scores))\n",
    "    else:\n",
    "        print(\"不正確的輸入範圍\")\n",
    "except ValueError:\n",
    "    print(\"輸入格式有誤\")\n",
    "except Exception:\n",
    "    print(\"不知名的錯誤\")\n",
    "\n",
    "print(\"應用程式結束\")"
   ]
  }
 ],
 "metadata": {
  "kernelspec": {
   "display_name": "env1",
   "language": "python",
   "name": "python3"
  },
  "language_info": {
   "codemirror_mode": {
    "name": "ipython",
    "version": 3
   },
   "file_extension": ".py",
   "mimetype": "text/x-python",
   "name": "python",
   "nbconvert_exporter": "python",
   "pygments_lexer": "ipython3",
   "version": "3.11.9"
  }
 },
 "nbformat": 4,
 "nbformat_minor": 2
}
