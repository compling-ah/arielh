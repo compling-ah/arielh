{
 "cells": [
  {
   "cell_type": "markdown",
   "metadata": {},
   "source": [
    "* 常數 (constant) = 可儲存資料，但值不能改變\n",
    "* 變數 (variable) = 可儲存資料，但值可改變\n",
    "    * Python 沒有常數\n",
    "* 引數 arguement\n"
   ]
  },
  {
   "cell_type": "code",
   "execution_count": 1,
   "metadata": {},
   "outputs": [
    {
     "data": {
      "text/plain": [
       "3.141592653589793"
      ]
     },
     "execution_count": 1,
     "metadata": {},
     "output_type": "execute_result"
    }
   ],
   "source": [
    "import math\n",
    "math.pi"
   ]
  },
  {
   "cell_type": "code",
   "execution_count": 4,
   "metadata": {},
   "outputs": [
    {
     "name": "stdout",
     "output_type": "stream",
     "text": [
      "8\n",
      "9\n"
     ]
    }
   ],
   "source": [
    "import random\n",
    "random.random()\n",
    "print(random.randrange(1,11)) #產生1~10\n",
    "print(random.randint(1,10))"
   ]
  },
  {
   "cell_type": "code",
   "execution_count": 8,
   "metadata": {},
   "outputs": [
    {
     "name": "stdout",
     "output_type": "stream",
     "text": [
      "===========猜數字遊戲==============\n",
      "\n",
      "猜錯了\n",
      "您已經猜了1次\n"
     ]
    },
    {
     "ename": "ValueError",
     "evalue": "invalid literal for int() with base 10: ''",
     "output_type": "error",
     "traceback": [
      "\u001b[0;31m---------------------------------------------------------------------------\u001b[0m",
      "\u001b[0;31mValueError\u001b[0m                                Traceback (most recent call last)",
      "Cell \u001b[0;32mIn[8], line 11\u001b[0m\n\u001b[1;32m      9\u001b[0m \u001b[38;5;28mprint\u001b[39m(\u001b[38;5;124m\"\u001b[39m\u001b[38;5;124m===========猜數字遊戲==============\u001b[39m\u001b[38;5;130;01m\\n\u001b[39;00m\u001b[38;5;124m\"\u001b[39m)\n\u001b[1;32m     10\u001b[0m \u001b[38;5;28;01mwhile\u001b[39;00m(\u001b[38;5;28;01mTrue\u001b[39;00m):\n\u001b[0;32m---> 11\u001b[0m     keyin \u001b[38;5;241m=\u001b[39m \u001b[38;5;28;43mint\u001b[39;49m\u001b[43m(\u001b[49m\u001b[38;5;28;43minput\u001b[39;49m\u001b[43m(\u001b[49m\u001b[38;5;124;43mf\u001b[39;49m\u001b[38;5;124;43m\"\u001b[39;49m\u001b[38;5;124;43m猜數字範圍\u001b[39;49m\u001b[38;5;132;43;01m{\u001b[39;49;00m\u001b[38;5;28;43mmin\u001b[39;49m\u001b[38;5;132;43;01m}\u001b[39;49;00m\u001b[38;5;124;43m~\u001b[39;49m\u001b[38;5;132;43;01m{\u001b[39;49;00m\u001b[38;5;28;43mmax\u001b[39;49m\u001b[38;5;132;43;01m}\u001b[39;49;00m\u001b[38;5;124;43m:\u001b[39;49m\u001b[38;5;124;43m\"\u001b[39;49m\u001b[43m)\u001b[49m\u001b[43m)\u001b[49m\n\u001b[1;32m     12\u001b[0m     count \u001b[38;5;241m+\u001b[39m\u001b[38;5;241m=\u001b[39m \u001b[38;5;241m1\u001b[39m\n\u001b[1;32m     13\u001b[0m     \u001b[38;5;28;01mif\u001b[39;00m(keyin \u001b[38;5;241m==\u001b[39m target):\n",
      "\u001b[0;31mValueError\u001b[0m: invalid literal for int() with base 10: ''"
     ]
    }
   ],
   "source": [
    "#猜數字遊戲\n",
    "\n",
    "import random\n",
    "min = 1\n",
    "max = 10\n",
    "count = 0\n",
    "target = random.randint(min,max)\n",
    "#print(target)\n",
    "print(\"===========猜數字遊戲==============\\n\")\n",
    "while(True):\n",
    "    keyin = int(input(f\"猜數字範圍{min}~{max}:\"))\n",
    "    count += 1\n",
    "    if(keyin == target):\n",
    "        print(f\"賓果!猜對了, 答案是:{target}\")\n",
    "        print(f\"您總共猜了{count}次\")\n",
    "        break\n",
    "    else:\n",
    "        print(\"猜錯了\")\n",
    "        print(f\"您已經猜了{count}次\")\n",
    "    \n",
    "print(\"遊戲結束\")"
   ]
  },
  {
   "cell_type": "code",
   "execution_count": 9,
   "metadata": {},
   "outputs": [
    {
     "name": "stdout",
     "output_type": "stream",
     "text": [
      "===========猜數字遊戲==============\n",
      "\n",
      "猜錯了\n",
      "您已經猜了1次\n",
      "輸入格式不定確\n",
      "猜錯了\n",
      "您已經猜了3次\n",
      "猜錯了\n",
      "您已經猜了4次\n",
      "猜錯了\n",
      "您已經猜了5次\n",
      "猜錯了\n",
      "您已經猜了6次\n",
      "猜錯了\n",
      "您已經猜了7次\n",
      "猜錯了\n",
      "您已經猜了8次\n",
      "猜錯了\n",
      "您已經猜了9次\n",
      "賓果!猜對了, 答案是:10\n",
      "您總共猜了10次\n",
      "遊戲結束\n"
     ]
    }
   ],
   "source": [
    "#輸入格式不正確\n",
    "\n",
    "import random\n",
    "min = 1\n",
    "max = 10\n",
    "count = 0\n",
    "target = random.randint(min,max)\n",
    "#print(target)\n",
    "print(\"===========猜數字遊戲==============\\n\")\n",
    "while(True):\n",
    "    try:\n",
    "        keyin = int(input(f\"猜數字範圍{min}~{max}:\"))\n",
    "        count += 1\n",
    "        if keyin >= min and keyin <= max:\n",
    "            if(keyin == target):\n",
    "                print(f\"賓果!猜對了, 答案是:{target}\")\n",
    "                print(f\"您總共猜了{count}次\")\n",
    "                break\n",
    "            else:\n",
    "                print(\"猜錯了\")\n",
    "                print(f\"您已經猜了{count}次\")\n",
    "        else:\n",
    "            print(\"超出範圍\")\n",
    "    except Exception:\n",
    "        count += 1\n",
    "        print(\"輸入格式不定確\")\n",
    "    \n",
    "print(\"遊戲結束\")"
   ]
  },
  {
   "cell_type": "code",
   "execution_count": 10,
   "metadata": {},
   "outputs": [
    {
     "name": "stdout",
     "output_type": "stream",
     "text": [
      "===========猜數字遊戲==============\n",
      "\n",
      "再小一點\n",
      "您已經猜了1次\n",
      "再大一點\n",
      "您已經猜了2次\n",
      "再大一點\n",
      "您已經猜了3次\n",
      "再大一點\n",
      "您已經猜了4次\n",
      "再大一點\n",
      "您已經猜了5次\n",
      "超出範圍\n",
      "賓果!猜對了, 答案是:49\n",
      "您總共猜了7次\n",
      "遊戲結束\n"
     ]
    }
   ],
   "source": [
    "#else if (elif) 多項選擇只會執行「其中一個」就跳出來結束\n",
    "\n",
    "import random\n",
    "min = 1\n",
    "max = 100\n",
    "count = 0\n",
    "target = random.randint(min,max)\n",
    "#print(target)\n",
    "print(\"===========猜數字遊戲==============\\n\")\n",
    "while(True):\n",
    "    try:\n",
    "        keyin = int(input(f\"猜數字範圍{min}~{max}:\"))\n",
    "        count += 1\n",
    "        if keyin >= min and keyin <= max:\n",
    "            if(keyin == target):\n",
    "                print(f\"賓果!猜對了, 答案是:{target}\")\n",
    "                print(f\"您總共猜了{count}次\")\n",
    "                break\n",
    "            elif keyin > target:\n",
    "                print(\"再小一點\")\n",
    "                max = keyin-1                \n",
    "            elif keyin < target:\n",
    "                print(\"再大一點\")\n",
    "                min = keyin + 1\n",
    "            print(f\"您已經猜了{count}次\")    \n",
    "        else:\n",
    "            print(\"超出範圍\")\n",
    "    except Exception:\n",
    "        count += 1\n",
    "        print(\"輸入格式不定確\")\n",
    "    \n",
    "print(\"遊戲結束\")"
   ]
  }
 ],
 "metadata": {
  "kernelspec": {
   "display_name": "env1",
   "language": "python",
   "name": "python3"
  },
  "language_info": {
   "codemirror_mode": {
    "name": "ipython",
    "version": 3
   },
   "file_extension": ".py",
   "mimetype": "text/x-python",
   "name": "python",
   "nbconvert_exporter": "python",
   "pygments_lexer": "ipython3",
   "version": "3.11.9"
  }
 },
 "nbformat": 4,
 "nbformat_minor": 2
}
